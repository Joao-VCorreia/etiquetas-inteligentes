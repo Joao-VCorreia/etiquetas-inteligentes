{
 "cells": [
  {
   "cell_type": "code",
   "execution_count": 37,
   "metadata": {},
   "outputs": [],
   "source": [
    "import pandas as pd\n",
    "import streamlit as st\n",
    "from reportlab.pdfgen import canvas\n",
    "from reportlab.lib.units import mm"
   ]
  },
  {
   "cell_type": "code",
   "execution_count": 38,
   "metadata": {},
   "outputs": [],
   "source": [
    "dfProntuarios = pd.read_parquet('../database/banco-de-dados.parquet')"
   ]
  },
  {
   "cell_type": "code",
   "execution_count": 39,
   "metadata": {},
   "outputs": [],
   "source": [
    "def aplicarFiltros(dfIn,horarioInicial, horarioFinal, excluirMedicamentos):\n",
    "\n",
    "   maskHorario = (dfIn['horario'] >= horarioInicial) & (dfIn['horario'] <= horarioFinal)\n",
    "   maskMedicamentos = ~dfIn['medicacao'].isin(excluirMedicamentos)\n",
    "\n",
    "   dfOut = dfIn[maskHorario & maskMedicamentos]\n",
    "\n",
    "   return dfOut"
   ]
  },
  {
   "cell_type": "code",
   "execution_count": 40,
   "metadata": {},
   "outputs": [],
   "source": [
    "horarioInicial = pd.to_datetime('07:00:00').time()  \n",
    "horarioFinal = pd.to_datetime('19:00:00').time()  \n",
    "excluirMedicamentos = ['MedicamentoA', 'MedicamentoE', 'MedicamentoI', 'MedicamentoO', 'MedicamentoU']\n",
    "\n",
    "dfFiltrado = aplicarFiltros(dfProntuarios, horarioInicial, horarioFinal, excluirMedicamentos)"
   ]
  },
  {
   "cell_type": "code",
   "execution_count": 41,
   "metadata": {},
   "outputs": [],
   "source": [
    "def gerarPDF(dataframe, nomeArquivo):\n",
    "\n",
    "    largura_pagina, altura_pagina = 100*mm, 35*mm\n",
    "    \n",
    "    c = canvas.Canvas(nomeArquivo, pagesize=(largura_pagina, altura_pagina))\n",
    "\n",
    "    for index, row in dataframe.iterrows():\n",
    "        \n",
    "        c.setFont(\"Helvetica-Bold\", 6*mm)\n",
    "\n",
    "        c.drawString(2*mm, altura_pagina - (8*mm), str(row['nome']))\n",
    "        c.drawString(2*mm, altura_pagina - (15*mm), str(row['dataNascimento']))\n",
    "        c.drawString(2*mm, altura_pagina - (22*mm), str(row['sexo']))\n",
    "        c.drawString(50*mm, altura_pagina - (17.5*mm), str(row['classe']))\n",
    "        c.drawString(60*mm, altura_pagina - (24.5*mm), str(row['horario']))\n",
    "      \n",
    "        c.showPage()\n",
    "\n",
    "    c.save()\n",
    "\n",
    "gerarPDF(dfFiltrado, \"etiquetas.pdf\")\n"
   ]
  },
  {
   "cell_type": "code",
   "execution_count": 42,
   "metadata": {},
   "outputs": [
    {
     "data": {
      "text/plain": [
       "'st.title(\\'Gerador de etiquetas\\')\\n\\nhorarioInicial = st.time_input(\\'Horario Inicial\\', value=pd.to_datetime(\\'00:00:00\\').time())\\nhorarioFinal = st.time_input(\\'Horario Final\\', value=pd.to_datetime(\\'23:59:59\\').time())\\ninputExcluirMedicamentos = st.text_input(\"Medicamentos a desconsiderar (separados por vírgulas)\", \"\")\\n\\nif st.button(\"Executar\"):\\n    excluirMedicamentos = [med.strip() for med in inputExcluirMedicamentos.split(\\',\\')]\\n    aplicarFiltros(horarioInicial, horarioFinal, excluirMedicamentos)\\n    st.success(\\'Etiquetas geradas com sucesso!\\')\\n    st.write(\"As etiquetas foram geradas e salvas no arquivo \\'etiquetas.pdf\\'.\")'"
      ]
     },
     "execution_count": 42,
     "metadata": {},
     "output_type": "execute_result"
    }
   ],
   "source": [
    "'''st.title('Gerador de etiquetas')\n",
    "\n",
    "horarioInicial = st.time_input('Horario Inicial', value=pd.to_datetime('00:00:00').time())\n",
    "horarioFinal = st.time_input('Horario Final', value=pd.to_datetime('23:59:59').time())\n",
    "inputExcluirMedicamentos = st.text_input(\"Medicamentos a desconsiderar (separados por vírgulas)\", \"\")\n",
    "\n",
    "if st.button(\"Executar\"):\n",
    "    excluirMedicamentos = [med.strip() for med in inputExcluirMedicamentos.split(',')]\n",
    "    aplicarFiltros(horarioInicial, horarioFinal, excluirMedicamentos)\n",
    "    st.success('Etiquetas geradas com sucesso!')\n",
    "    st.write(\"As etiquetas foram geradas e salvas no arquivo 'etiquetas.pdf'.\")'''"
   ]
  }
 ],
 "metadata": {
  "kernelspec": {
   "display_name": "Python 3",
   "language": "python",
   "name": "python3"
  },
  "language_info": {
   "codemirror_mode": {
    "name": "ipython",
    "version": 3
   },
   "file_extension": ".py",
   "mimetype": "text/x-python",
   "name": "python",
   "nbconvert_exporter": "python",
   "pygments_lexer": "ipython3",
   "version": "3.12.3"
  }
 },
 "nbformat": 4,
 "nbformat_minor": 2
}
